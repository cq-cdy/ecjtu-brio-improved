{
 "cells": [
  {
   "cell_type": "code",
   "execution_count": 1,
   "metadata": {
    "pycharm": {
     "name": "#%%\n"
    },
    "tags": []
   },
   "outputs": [
    {
     "data": {
      "text/plain": [
       "('./evaluate/E1-xsum-res-datas/xsum-brio-hyps.txt',\n",
       " './evaluate/E1-xsum-res-datas/xsum-brio-ref.txt')"
      ]
     },
     "execution_count": 1,
     "metadata": {},
     "output_type": "execute_result"
    }
   ],
   "source": [
    "import os\n",
    "import torch\n",
    "from torch.utils.data import DataLoader\n",
    "from Configs import Config\n",
    "from model import  Imporved_BRIO\n",
    "import utils\n",
    "from TestDataSet import TestDataSet\n",
    "from compare_mt.rouge.rouge_scorer import RougeScorer\n",
    "rouge_scorer = RougeScorer(['rouge1', 'rouge2', 'rougeLsum'], use_stemmer=True)\n",
    "\n",
    "DATA_NAME = 'xsum'\n",
    "args = Config(DATA_NAME)\n",
    "pair_data_path = f'./evaluate/E1-{DATA_NAME}-res-datas'\n",
    "if(not os.path.exists(pair_data_path)):\n",
    "    os.mkdir(pair_data_path)\n",
    "    \n",
    "#MODEL_PATH = f'./check_points/xxxxxxxxxxx.bin'\n",
    "\n",
    "hyps_txt = os.path.join(pair_data_path,'xsum-brio-hyps.txt')\n",
    "refs_txt = os.path.join(pair_data_path,'xsum-brio-ref.txt')\n",
    "def flush_hyps(x):\n",
    "    with open(hyps_txt,'a+',encoding='utf-8') as f:\n",
    "        f.write(x + '\\n')\n",
    "        f.close()\n",
    "def flush_refs(x):\n",
    "    with open(refs_txt,'a+',encoding='utf-8') as f:\n",
    "        f.write(x + '\\n')\n",
    "        f.close()\n",
    "hyps_txt,refs_txt"
   ]
  },
  {
   "cell_type": "code",
   "execution_count": 2,
   "metadata": {
    "collapsed": false,
    "jupyter": {
     "outputs_hidden": false
    },
    "pycharm": {
     "name": "#%%\n"
    }
   },
   "outputs": [],
   "source": [
    "model =torch.load(MODEL_PATH).to(args.device)\n",
    "model.eval()\n",
    "tokenizer = model.tokenizer\n"
   ]
  },
  {
   "cell_type": "code",
   "execution_count": 3,
   "metadata": {
    "tags": [],
    "pycharm": {
     "name": "#%%\n"
    }
   },
   "outputs": [],
   "source": [
    "model.model.model.generation_mode()"
   ]
  },
  {
   "cell_type": "code",
   "execution_count": 4,
   "metadata": {
    "pycharm": {
     "name": "#%%\n"
    }
   },
   "outputs": [],
   "source": [
    "validation_set = TestDataSet('./xsum_test_set/')\n",
    "validation_loader =DataLoader(dataset=validation_set,batch_size=50,shuffle=False,drop_last=False)"
   ]
  },
  {
   "cell_type": "code",
   "execution_count": null,
   "metadata": {
    "pycharm": {
     "name": "#%%\n",
     "is_executing": true
    },
    "tags": []
   },
   "outputs": [],
   "source": [
    "\n",
    "for k,data in enumerate(validation_loader):\n",
    "    print(f'[{k}/{len(validation_loader)}]')\n",
    "    if(DATA_NAME == 'xsum'):\n",
    "        x = [ i.strip() for i in data[0]]\n",
    "        y = [ i.strip() for i in data[1]]\n",
    "    else :\n",
    "        x = [ i.strip().lower() for i in data[0]]\n",
    "        y = [ i.strip().lower() for i in data[1]]\n",
    "    pred_list=[]\n",
    "    X = tokenizer.batch_encode_plus(x,max_length=args.total_len, truncation=True, return_tensors='pt',padding='max_length').to(args.device)\n",
    "    with torch.no_grad():\n",
    "        out = model.model.generate(\n",
    "                input_ids=X.input_ids.to(args.device),\n",
    "                attention_mask=X.attention_mask.to(args.device),\n",
    "                max_length = args.gen_max_len + 2,\n",
    "                min_length=args.gen_min_len + 1,\n",
    "                no_repeat_ngram_size=3,\n",
    "                early_stopping=True,\n",
    "                num_beams=4,\n",
    "                length_penalty= args.length_penalty\n",
    "            )\n",
    "    pred = tokenizer.batch_decode(out.cpu(),skip_special_tokens=True,clean_up_tokenization_spaces=True)\n",
    "    if  DATA_NAME == 'xsum':\n",
    "        for x in pred:\n",
    "            flush_hyps(x.strip())\n",
    "    else:\n",
    "        for x in pred:\n",
    "            flush_hyps(x.strip().lower())\n",
    "    for l in y:\n",
    "        flush_refs(l)"
   ]
  }
 ],
 "metadata": {
  "kernelspec": {
   "display_name": "Python 3 (ipykernel)",
   "language": "python",
   "name": "python3"
  },
  "language_info": {
   "codemirror_mode": {
    "name": "ipython",
    "version": 3
   },
   "file_extension": ".py",
   "mimetype": "text/x-python",
   "name": "python",
   "nbconvert_exporter": "python",
   "pygments_lexer": "ipython3",
   "version": "3.8.10"
  }
 },
 "nbformat": 4,
 "nbformat_minor": 4
}