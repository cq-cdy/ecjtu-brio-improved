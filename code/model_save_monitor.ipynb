{
 "cells": [
  {
   "cell_type": "code",
   "execution_count": 1,
   "id": "931b5e81-c762-4e7d-bb53-d161126b83f1",
   "metadata": {
    "pycharm": {
     "name": "#%%\n"
    }
   },
   "outputs": [],
   "source": [
    "import os\n",
    "import time"
   ]
  },
  {
   "cell_type": "code",
   "execution_count": null,
   "id": "a7d183c4-9515-44af-bed9-ee253c07e47b",
   "metadata": {
    "pycharm": {
     "name": "#%%\n"
    }
   },
   "outputs": [],
   "source": [
    "while(True):\n",
    "\n",
    "    dir1 =[ i for i in os.listdir('./check_points/') if i .endswith('.bin')]\n",
    "    if(len(dir1)>=10):\n",
    "        dir_s = [ i.split('-') for i in dir1]\n",
    "        dir_s.sort(key=lambda x:x[3]*100000+x[4],reverse=True)#按时间排序\n",
    "        new_one = dir_s[0]\n",
    "        #new_name= f'{new_one[3]}-{new_one[4]}'\n",
    "        dir_s = dir_s[1:]\n",
    "        dir_s.sort(key=lambda x:x[6],reverse=True)\n",
    "        sep = (len(dir_s) // 3)+1\n",
    "        large = dir_s[0:sep]\n",
    "        mid = dir_s[sep:2*sep]\n",
    "        small = dir_s[2*sep:]\n",
    "        \n",
    "        mid_num =[float(k[6]) for k in mid]\n",
    "        large_num =[float(k[6]) for k in large]\n",
    "        small_num =[float(k[6]) for k in small]\n",
    "        \n",
    "        if float(new_one[6]) >= min(large_num): ##说明属于large\n",
    "            t_name = large[-1]\n",
    "            t_name =f'{t_name[3]}-{t_name[4]}'\n",
    "        elif float(new_one[6]) > max(small_num): ##说明属于mid\n",
    "            t_name = mid[-1]\n",
    "            t_name =f'{t_name[3]}-{t_name[4]}'\n",
    "        else:                                    ##说明属于smll\n",
    "            t_name = small[0]\n",
    "            t_name =f'{t_name[3]}-{t_name[4]}'\n",
    "        # if new_name == t_name:\n",
    "        #     print('same')\n",
    "        #     for n,a in enumerate(tmp_dir):\n",
    "        #         if(n==0):continue\n",
    "        #         tmp_name = f'{a[3]}-{a[4]}'\n",
    "        #         if(tmp_name != new_name):\n",
    "        #             t_name = tmp_name\n",
    "        #             print(t_name)\n",
    "        #             break\n",
    "\n",
    "        for i in dir1:\n",
    "            if i.__contains__(t_name):\n",
    "                os.remove(os.path.join('check_points/',i))\n",
    "    time.sleep(10)"
   ]
  },
  {
   "cell_type": "code",
   "execution_count": null,
   "id": "502046cb-ccbc-4c3b-9864-102a9040602c",
   "metadata": {
    "pycharm": {
     "name": "#%%\n"
    }
   },
   "outputs": [],
   "source": []
  }
 ],
 "metadata": {
  "kernelspec": {
   "display_name": "Python 3 (ipykernel)",
   "language": "python",
   "name": "python3"
  },
  "language_info": {
   "codemirror_mode": {
    "name": "ipython",
    "version": 3
   },
   "file_extension": ".py",
   "mimetype": "text/x-python",
   "name": "python",
   "nbconvert_exporter": "python",
   "pygments_lexer": "ipython3",
   "version": "3.8.10"
  }
 },
 "nbformat": 4,
 "nbformat_minor": 5
}